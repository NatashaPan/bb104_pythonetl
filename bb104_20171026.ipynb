{
 "cells": [
  {
   "cell_type": "markdown",
   "metadata": {},
   "source": [
    "# Python ETL\n",
    "\n",
    "## Syntax Introduction\n",
    "\n",
    "1. pritimiives\n",
    "1. collections\n",
    "1. control flow\n",
    "1. functions\n",
    "1. simple programs\n",
    "\n",
    "### Why python?\n",
    "\n",
    "* it is cool"
   ]
  },
  {
   "cell_type": "code",
   "execution_count": 138,
   "metadata": {},
   "outputs": [
    {
     "data": {
      "text/plain": [
       "'\\nThis can be used \\nas a \\nmulti line comment\\n'"
      ]
     },
     "execution_count": 138,
     "metadata": {},
     "output_type": "execute_result"
    }
   ],
   "source": [
    "# This is a Python comment\n",
    "\"\"\"\n",
    "This can be used \n",
    "as a \n",
    "multi line comment\n",
    "\"\"\""
   ]
  },
  {
   "cell_type": "code",
   "execution_count": 139,
   "metadata": {},
   "outputs": [
    {
     "data": {
      "text/plain": [
       "'Hello world'"
      ]
     },
     "execution_count": 139,
     "metadata": {},
     "output_type": "execute_result"
    }
   ],
   "source": [
    "# strings\n",
    "\"Hello, world\"\n",
    "'Hello, again'\n",
    "\"\"\"Hell'o \"world\"\"\"\n",
    "'''Hello world'''"
   ]
  },
  {
   "cell_type": "code",
   "execution_count": 140,
   "metadata": {},
   "outputs": [],
   "source": [
    "mystr = \"Hello, world\""
   ]
  },
  {
   "cell_type": "code",
   "execution_count": 141,
   "metadata": {},
   "outputs": [
    {
     "data": {
      "text/plain": [
       "'Hello, world'"
      ]
     },
     "execution_count": 141,
     "metadata": {},
     "output_type": "execute_result"
    }
   ],
   "source": [
    "mystr"
   ]
  },
  {
   "cell_type": "code",
   "execution_count": 142,
   "metadata": {},
   "outputs": [
    {
     "data": {
      "text/plain": [
       "2"
      ]
     },
     "execution_count": 142,
     "metadata": {},
     "output_type": "execute_result"
    }
   ],
   "source": [
    "1 + 1"
   ]
  },
  {
   "cell_type": "code",
   "execution_count": 143,
   "metadata": {},
   "outputs": [
    {
     "data": {
      "text/plain": [
       "1"
      ]
     },
     "execution_count": 143,
     "metadata": {},
     "output_type": "execute_result"
    }
   ],
   "source": [
    "2 - 1"
   ]
  },
  {
   "cell_type": "code",
   "execution_count": 144,
   "metadata": {},
   "outputs": [
    {
     "data": {
      "text/plain": [
       "4"
      ]
     },
     "execution_count": 144,
     "metadata": {},
     "output_type": "execute_result"
    }
   ],
   "source": [
    "2 * 2"
   ]
  },
  {
   "cell_type": "code",
   "execution_count": 145,
   "metadata": {},
   "outputs": [
    {
     "data": {
      "text/plain": [
       "2.0"
      ]
     },
     "execution_count": 145,
     "metadata": {},
     "output_type": "execute_result"
    }
   ],
   "source": [
    "4 / 2"
   ]
  },
  {
   "cell_type": "code",
   "execution_count": 146,
   "metadata": {},
   "outputs": [
    {
     "data": {
      "text/plain": [
       "8"
      ]
     },
     "execution_count": 146,
     "metadata": {},
     "output_type": "execute_result"
    }
   ],
   "source": [
    "2 ** 3"
   ]
  },
  {
   "cell_type": "code",
   "execution_count": 147,
   "metadata": {},
   "outputs": [
    {
     "data": {
      "text/plain": [
       "1"
      ]
     },
     "execution_count": 147,
     "metadata": {},
     "output_type": "execute_result"
    }
   ],
   "source": [
    "# mod\n",
    "10 % 3"
   ]
  },
  {
   "cell_type": "code",
   "execution_count": 148,
   "metadata": {},
   "outputs": [
    {
     "data": {
      "text/plain": [
       "True"
      ]
     },
     "execution_count": 148,
     "metadata": {},
     "output_type": "execute_result"
    }
   ],
   "source": [
    "True"
   ]
  },
  {
   "cell_type": "code",
   "execution_count": 149,
   "metadata": {},
   "outputs": [
    {
     "data": {
      "text/plain": [
       "False"
      ]
     },
     "execution_count": 149,
     "metadata": {},
     "output_type": "execute_result"
    }
   ],
   "source": [
    "False"
   ]
  },
  {
   "cell_type": "code",
   "execution_count": 150,
   "metadata": {},
   "outputs": [
    {
     "data": {
      "text/plain": [
       "False"
      ]
     },
     "execution_count": 150,
     "metadata": {},
     "output_type": "execute_result"
    }
   ],
   "source": [
    "not True"
   ]
  },
  {
   "cell_type": "code",
   "execution_count": 151,
   "metadata": {},
   "outputs": [
    {
     "data": {
      "text/plain": [
       "True"
      ]
     },
     "execution_count": 151,
     "metadata": {},
     "output_type": "execute_result"
    }
   ],
   "source": [
    "not False"
   ]
  },
  {
   "cell_type": "code",
   "execution_count": 152,
   "metadata": {},
   "outputs": [
    {
     "data": {
      "text/plain": [
       "False"
      ]
     },
     "execution_count": 152,
     "metadata": {},
     "output_type": "execute_result"
    }
   ],
   "source": [
    "True and False"
   ]
  },
  {
   "cell_type": "code",
   "execution_count": 153,
   "metadata": {},
   "outputs": [
    {
     "data": {
      "text/plain": [
       "True"
      ]
     },
     "execution_count": 153,
     "metadata": {},
     "output_type": "execute_result"
    }
   ],
   "source": [
    "False or True"
   ]
  },
  {
   "cell_type": "code",
   "execution_count": 154,
   "metadata": {},
   "outputs": [
    {
     "data": {
      "text/plain": [
       "True"
      ]
     },
     "execution_count": 154,
     "metadata": {},
     "output_type": "execute_result"
    }
   ],
   "source": [
    "1 == 1"
   ]
  },
  {
   "cell_type": "code",
   "execution_count": 155,
   "metadata": {
    "scrolled": true
   },
   "outputs": [
    {
     "data": {
      "text/plain": [
       "False"
      ]
     },
     "execution_count": 155,
     "metadata": {},
     "output_type": "execute_result"
    }
   ],
   "source": [
    "2 == 1"
   ]
  },
  {
   "cell_type": "code",
   "execution_count": 156,
   "metadata": {},
   "outputs": [
    {
     "data": {
      "text/plain": [
       "False"
      ]
     },
     "execution_count": 156,
     "metadata": {},
     "output_type": "execute_result"
    }
   ],
   "source": [
    "1 != 1"
   ]
  },
  {
   "cell_type": "code",
   "execution_count": 157,
   "metadata": {},
   "outputs": [
    {
     "data": {
      "text/plain": [
       "False"
      ]
     },
     "execution_count": 157,
     "metadata": {},
     "output_type": "execute_result"
    }
   ],
   "source": [
    "1 > 2"
   ]
  },
  {
   "cell_type": "code",
   "execution_count": 158,
   "metadata": {},
   "outputs": [
    {
     "data": {
      "text/plain": [
       "True"
      ]
     },
     "execution_count": 158,
     "metadata": {},
     "output_type": "execute_result"
    }
   ],
   "source": [
    "2 >= 2"
   ]
  },
  {
   "cell_type": "code",
   "execution_count": 159,
   "metadata": {},
   "outputs": [
    {
     "name": "stdout",
     "output_type": "stream",
     "text": [
      "David\n"
     ]
    }
   ],
   "source": [
    "name = \"David\"\n",
    "print(name)"
   ]
  },
  {
   "cell_type": "code",
   "execution_count": 160,
   "metadata": {},
   "outputs": [
    {
     "data": {
      "text/plain": [
       "'[Info] username is Ian'"
      ]
     },
     "execution_count": 160,
     "metadata": {},
     "output_type": "execute_result"
    }
   ],
   "source": [
    "\"[Info] username is \" + \"Ian\""
   ]
  },
  {
   "cell_type": "code",
   "execution_count": 161,
   "metadata": {},
   "outputs": [
    {
     "data": {
      "text/plain": [
       "'[Info] username is David'"
      ]
     },
     "execution_count": 161,
     "metadata": {},
     "output_type": "execute_result"
    }
   ],
   "source": [
    "\"[Info] username is \" + name"
   ]
  },
  {
   "cell_type": "code",
   "execution_count": 162,
   "metadata": {},
   "outputs": [],
   "source": [
    "#\"[Info] Today's temperature is \" + 75"
   ]
  },
  {
   "cell_type": "code",
   "execution_count": 163,
   "metadata": {},
   "outputs": [
    {
     "data": {
      "text/plain": [
       "\"[Info] Today's temperature is 75F\""
      ]
     },
     "execution_count": 163,
     "metadata": {},
     "output_type": "execute_result"
    }
   ],
   "source": [
    "\"[Info] Today's temperature is %sF\"%75"
   ]
  },
  {
   "cell_type": "code",
   "execution_count": 164,
   "metadata": {},
   "outputs": [
    {
     "data": {
      "text/plain": [
       "\"[Info] Today's temperature is 75F\""
      ]
     },
     "execution_count": 164,
     "metadata": {},
     "output_type": "execute_result"
    }
   ],
   "source": [
    "\"[Info] Today's temperature is {}F\".format(75)"
   ]
  },
  {
   "cell_type": "code",
   "execution_count": 165,
   "metadata": {},
   "outputs": [
    {
     "data": {
      "text/plain": [
       "\"[Info] Today's temperature in Taoyuan is 75F\""
      ]
     },
     "execution_count": 165,
     "metadata": {},
     "output_type": "execute_result"
    }
   ],
   "source": [
    "\"[Info] Today's temperature in %s is %sF\"%(\"Taoyuan\", 75)"
   ]
  },
  {
   "cell_type": "code",
   "execution_count": 166,
   "metadata": {},
   "outputs": [
    {
     "data": {
      "text/plain": [
       "\"[Info] Today's temperature in Taoyuan is 75F\""
      ]
     },
     "execution_count": 166,
     "metadata": {},
     "output_type": "execute_result"
    }
   ],
   "source": [
    "\"[Info] Today's temperature in {} is {}F\".format(\"Taoyuan\", 75)"
   ]
  },
  {
   "cell_type": "code",
   "execution_count": 167,
   "metadata": {},
   "outputs": [
    {
     "data": {
      "text/plain": [
       "\"[Info] Today's temperature in Taoyuan is 75F, Tomorrow is 75F\""
      ]
     },
     "execution_count": 167,
     "metadata": {},
     "output_type": "execute_result"
    }
   ],
   "source": [
    "\"[Info] Today's temperature in {0} is {1}F, Tomorrow is {1}F\".format(\"Taoyuan\", 75)"
   ]
  },
  {
   "cell_type": "code",
   "execution_count": 168,
   "metadata": {},
   "outputs": [
    {
     "data": {
      "text/plain": [
       "\"[Info] Today's temperature in Taoyuan is 75F, Tomorrow is 75F\""
      ]
     },
     "execution_count": 168,
     "metadata": {},
     "output_type": "execute_result"
    }
   ],
   "source": [
    "\"[Info] Today's temperature in {city} is {temp}F, Tomorrow is {temp}F\".format(city=\"Taoyuan\", temp=75)"
   ]
  },
  {
   "cell_type": "code",
   "execution_count": 169,
   "metadata": {},
   "outputs": [
    {
     "data": {
      "text/plain": [
       "5"
      ]
     },
     "execution_count": 169,
     "metadata": {},
     "output_type": "execute_result"
    }
   ],
   "source": [
    "len(\"hello\")"
   ]
  },
  {
   "cell_type": "code",
   "execution_count": 170,
   "metadata": {},
   "outputs": [
    {
     "data": {
      "text/plain": [
       "2"
      ]
     },
     "execution_count": 170,
     "metadata": {},
     "output_type": "execute_result"
    }
   ],
   "source": [
    "len(\"你好\")"
   ]
  },
  {
   "cell_type": "code",
   "execution_count": 171,
   "metadata": {},
   "outputs": [
    {
     "data": {
      "text/plain": [
       "[]"
      ]
     },
     "execution_count": 171,
     "metadata": {},
     "output_type": "execute_result"
    }
   ],
   "source": [
    "# Collections\n",
    "[]"
   ]
  },
  {
   "cell_type": "code",
   "execution_count": 172,
   "metadata": {},
   "outputs": [
    {
     "data": {
      "text/plain": [
       "[1]"
      ]
     },
     "execution_count": 172,
     "metadata": {},
     "output_type": "execute_result"
    }
   ],
   "source": [
    "[1]"
   ]
  },
  {
   "cell_type": "code",
   "execution_count": 173,
   "metadata": {},
   "outputs": [
    {
     "data": {
      "text/plain": [
       "[1, 2, 3, 4]"
      ]
     },
     "execution_count": 173,
     "metadata": {},
     "output_type": "execute_result"
    }
   ],
   "source": [
    "[1,2,3,4]"
   ]
  },
  {
   "cell_type": "code",
   "execution_count": 174,
   "metadata": {},
   "outputs": [
    {
     "data": {
      "text/plain": [
       "['nice', 1]"
      ]
     },
     "execution_count": 174,
     "metadata": {},
     "output_type": "execute_result"
    }
   ],
   "source": [
    "['nice', 1]"
   ]
  },
  {
   "cell_type": "code",
   "execution_count": 175,
   "metadata": {},
   "outputs": [],
   "source": [
    "students = []"
   ]
  },
  {
   "cell_type": "code",
   "execution_count": 176,
   "metadata": {},
   "outputs": [],
   "source": [
    "students.append(\"Ian\")"
   ]
  },
  {
   "cell_type": "code",
   "execution_count": 177,
   "metadata": {
    "scrolled": true
   },
   "outputs": [
    {
     "data": {
      "text/plain": [
       "['Ian']"
      ]
     },
     "execution_count": 177,
     "metadata": {},
     "output_type": "execute_result"
    }
   ],
   "source": [
    "students"
   ]
  },
  {
   "cell_type": "code",
   "execution_count": 178,
   "metadata": {},
   "outputs": [],
   "source": [
    "students.append(\"David\")"
   ]
  },
  {
   "cell_type": "code",
   "execution_count": 179,
   "metadata": {},
   "outputs": [
    {
     "data": {
      "text/plain": [
       "['Ian', 'David']"
      ]
     },
     "execution_count": 179,
     "metadata": {},
     "output_type": "execute_result"
    }
   ],
   "source": [
    "students"
   ]
  },
  {
   "cell_type": "code",
   "execution_count": 180,
   "metadata": {},
   "outputs": [],
   "source": [
    "students.insert(0, \"Brian\")"
   ]
  },
  {
   "cell_type": "code",
   "execution_count": 181,
   "metadata": {},
   "outputs": [
    {
     "data": {
      "text/plain": [
       "['Brian', 'Ian', 'David']"
      ]
     },
     "execution_count": 181,
     "metadata": {},
     "output_type": "execute_result"
    }
   ],
   "source": [
    "students"
   ]
  },
  {
   "cell_type": "code",
   "execution_count": 182,
   "metadata": {},
   "outputs": [
    {
     "data": {
      "text/plain": [
       "'David'"
      ]
     },
     "execution_count": 182,
     "metadata": {},
     "output_type": "execute_result"
    }
   ],
   "source": [
    "students.pop()"
   ]
  },
  {
   "cell_type": "code",
   "execution_count": 183,
   "metadata": {},
   "outputs": [
    {
     "data": {
      "text/plain": [
       "['Brian', 'Ian']"
      ]
     },
     "execution_count": 183,
     "metadata": {},
     "output_type": "execute_result"
    }
   ],
   "source": [
    "students"
   ]
  },
  {
   "cell_type": "code",
   "execution_count": 184,
   "metadata": {},
   "outputs": [],
   "source": [
    "del students[1]"
   ]
  },
  {
   "cell_type": "code",
   "execution_count": 185,
   "metadata": {},
   "outputs": [
    {
     "data": {
      "text/plain": [
       "['Brian']"
      ]
     },
     "execution_count": 185,
     "metadata": {},
     "output_type": "execute_result"
    }
   ],
   "source": [
    "students"
   ]
  },
  {
   "cell_type": "code",
   "execution_count": 186,
   "metadata": {},
   "outputs": [],
   "source": [
    "students.append('Ian')"
   ]
  },
  {
   "cell_type": "code",
   "execution_count": 187,
   "metadata": {},
   "outputs": [
    {
     "data": {
      "text/plain": [
       "['Brian', 'Ian']"
      ]
     },
     "execution_count": 187,
     "metadata": {},
     "output_type": "execute_result"
    }
   ],
   "source": [
    "students"
   ]
  },
  {
   "cell_type": "code",
   "execution_count": 188,
   "metadata": {},
   "outputs": [
    {
     "data": {
      "text/plain": [
       "'Ian'"
      ]
     },
     "execution_count": 188,
     "metadata": {},
     "output_type": "execute_result"
    }
   ],
   "source": [
    "students[1]"
   ]
  },
  {
   "cell_type": "code",
   "execution_count": 189,
   "metadata": {},
   "outputs": [
    {
     "data": {
      "text/plain": [
       "'Brian'"
      ]
     },
     "execution_count": 189,
     "metadata": {},
     "output_type": "execute_result"
    }
   ],
   "source": [
    "students[0]"
   ]
  },
  {
   "cell_type": "code",
   "execution_count": 190,
   "metadata": {},
   "outputs": [
    {
     "data": {
      "text/plain": [
       "'Ian'"
      ]
     },
     "execution_count": 190,
     "metadata": {},
     "output_type": "execute_result"
    }
   ],
   "source": [
    "students[-1]"
   ]
  },
  {
   "cell_type": "code",
   "execution_count": 191,
   "metadata": {},
   "outputs": [],
   "source": [
    "students[0] = \"John\""
   ]
  },
  {
   "cell_type": "code",
   "execution_count": 192,
   "metadata": {},
   "outputs": [
    {
     "data": {
      "text/plain": [
       "['John', 'Ian']"
      ]
     },
     "execution_count": 192,
     "metadata": {},
     "output_type": "execute_result"
    }
   ],
   "source": [
    "students"
   ]
  },
  {
   "cell_type": "code",
   "execution_count": 193,
   "metadata": {},
   "outputs": [],
   "source": [
    "students.append(\"Batman\")"
   ]
  },
  {
   "cell_type": "code",
   "execution_count": 194,
   "metadata": {},
   "outputs": [],
   "source": [
    "students.extend([\"Spiderman\", \"Ironman\"])"
   ]
  },
  {
   "cell_type": "code",
   "execution_count": 195,
   "metadata": {},
   "outputs": [
    {
     "data": {
      "text/plain": [
       "['John', 'Ian', 'Batman', 'Spiderman', 'Ironman']"
      ]
     },
     "execution_count": 195,
     "metadata": {},
     "output_type": "execute_result"
    }
   ],
   "source": [
    "students"
   ]
  },
  {
   "cell_type": "code",
   "execution_count": 196,
   "metadata": {},
   "outputs": [],
   "source": [
    "# list[start:end:step]"
   ]
  },
  {
   "cell_type": "code",
   "execution_count": 197,
   "metadata": {},
   "outputs": [
    {
     "data": {
      "text/plain": [
       "['Ian', 'Batman']"
      ]
     },
     "execution_count": 197,
     "metadata": {},
     "output_type": "execute_result"
    }
   ],
   "source": [
    "students[1:3]"
   ]
  },
  {
   "cell_type": "code",
   "execution_count": 198,
   "metadata": {},
   "outputs": [
    {
     "data": {
      "text/plain": [
       "['Ian', 'Batman', 'Spiderman', 'Ironman']"
      ]
     },
     "execution_count": 198,
     "metadata": {},
     "output_type": "execute_result"
    }
   ],
   "source": [
    "students[1:]"
   ]
  },
  {
   "cell_type": "code",
   "execution_count": 199,
   "metadata": {},
   "outputs": [
    {
     "data": {
      "text/plain": [
       "['John', 'Ian', 'Batman']"
      ]
     },
     "execution_count": 199,
     "metadata": {},
     "output_type": "execute_result"
    }
   ],
   "source": [
    "students[:3]"
   ]
  },
  {
   "cell_type": "code",
   "execution_count": 200,
   "metadata": {},
   "outputs": [
    {
     "data": {
      "text/plain": [
       "['John', 'Batman', 'Ironman']"
      ]
     },
     "execution_count": 200,
     "metadata": {},
     "output_type": "execute_result"
    }
   ],
   "source": [
    "students[::2]"
   ]
  },
  {
   "cell_type": "code",
   "execution_count": 201,
   "metadata": {},
   "outputs": [
    {
     "data": {
      "text/plain": [
       "['Ironman', 'Spiderman', 'Batman', 'Ian', 'John']"
      ]
     },
     "execution_count": 201,
     "metadata": {},
     "output_type": "execute_result"
    }
   ],
   "source": [
    "students[::-1]"
   ]
  },
  {
   "cell_type": "code",
   "execution_count": 202,
   "metadata": {},
   "outputs": [
    {
     "data": {
      "text/plain": [
       "['Ian', 'Spiderman']"
      ]
     },
     "execution_count": 202,
     "metadata": {},
     "output_type": "execute_result"
    }
   ],
   "source": [
    "students[1:4:2]"
   ]
  },
  {
   "cell_type": "code",
   "execution_count": 203,
   "metadata": {},
   "outputs": [
    {
     "data": {
      "text/plain": [
       "True"
      ]
     },
     "execution_count": 203,
     "metadata": {},
     "output_type": "execute_result"
    }
   ],
   "source": [
    "\"Ian\" in students"
   ]
  },
  {
   "cell_type": "code",
   "execution_count": 204,
   "metadata": {},
   "outputs": [],
   "source": [
    "is_in_class = \"Spiderman\" in students"
   ]
  },
  {
   "cell_type": "code",
   "execution_count": 205,
   "metadata": {},
   "outputs": [
    {
     "data": {
      "text/plain": [
       "False"
      ]
     },
     "execution_count": 205,
     "metadata": {},
     "output_type": "execute_result"
    }
   ],
   "source": [
    "\"wonder woman\" in students"
   ]
  },
  {
   "cell_type": "code",
   "execution_count": 206,
   "metadata": {},
   "outputs": [],
   "source": [
    "record = (\"Ian\", \"python\", \"engineer\")"
   ]
  },
  {
   "cell_type": "code",
   "execution_count": 207,
   "metadata": {},
   "outputs": [
    {
     "data": {
      "text/plain": [
       "'python'"
      ]
     },
     "execution_count": 207,
     "metadata": {},
     "output_type": "execute_result"
    }
   ],
   "source": [
    "record[1]"
   ]
  },
  {
   "cell_type": "code",
   "execution_count": 229,
   "metadata": {},
   "outputs": [],
   "source": [
    "# Dictionary\n",
    "student_dict = {\"name\": \"Ian\",\n",
    "                \"job\": \"Teacher\",\n",
    "                \"skills\": [\"python\", \"ruby\", \"javascript\", \"postgresql\"]}"
   ]
  },
  {
   "cell_type": "code",
   "execution_count": 230,
   "metadata": {},
   "outputs": [
    {
     "data": {
      "text/plain": [
       "'Ian'"
      ]
     },
     "execution_count": 230,
     "metadata": {},
     "output_type": "execute_result"
    }
   ],
   "source": [
    "student_dict['name']"
   ]
  },
  {
   "cell_type": "code",
   "execution_count": 231,
   "metadata": {},
   "outputs": [
    {
     "data": {
      "text/plain": [
       "'Teacher'"
      ]
     },
     "execution_count": 231,
     "metadata": {},
     "output_type": "execute_result"
    }
   ],
   "source": [
    "student_dict['job']"
   ]
  },
  {
   "cell_type": "code",
   "execution_count": 232,
   "metadata": {},
   "outputs": [],
   "source": [
    "student_dict['name'] = \"Daivd\""
   ]
  },
  {
   "cell_type": "code",
   "execution_count": 233,
   "metadata": {},
   "outputs": [
    {
     "data": {
      "text/plain": [
       "{'job': 'Teacher',\n",
       " 'name': 'Daivd',\n",
       " 'skills': ['python', 'ruby', 'javascript', 'postgresql']}"
      ]
     },
     "execution_count": 233,
     "metadata": {},
     "output_type": "execute_result"
    }
   ],
   "source": [
    "student_dict"
   ]
  },
  {
   "cell_type": "code",
   "execution_count": 234,
   "metadata": {},
   "outputs": [],
   "source": [
    "del student_dict['name']"
   ]
  },
  {
   "cell_type": "code",
   "execution_count": 235,
   "metadata": {},
   "outputs": [
    {
     "data": {
      "text/plain": [
       "{'job': 'Teacher', 'skills': ['python', 'ruby', 'javascript', 'postgresql']}"
      ]
     },
     "execution_count": 235,
     "metadata": {},
     "output_type": "execute_result"
    }
   ],
   "source": [
    "student_dict"
   ]
  },
  {
   "cell_type": "code",
   "execution_count": 236,
   "metadata": {},
   "outputs": [],
   "source": [
    "student_dict['name'] = \"Brian\""
   ]
  },
  {
   "cell_type": "code",
   "execution_count": 237,
   "metadata": {},
   "outputs": [
    {
     "data": {
      "text/plain": [
       "{'job': 'Teacher',\n",
       " 'name': 'Brian',\n",
       " 'skills': ['python', 'ruby', 'javascript', 'postgresql']}"
      ]
     },
     "execution_count": 237,
     "metadata": {},
     "output_type": "execute_result"
    }
   ],
   "source": [
    "student_dict"
   ]
  },
  {
   "cell_type": "code",
   "execution_count": 238,
   "metadata": {},
   "outputs": [],
   "source": [
    "# in在dictionary裏面用來查詢Key存不存在"
   ]
  },
  {
   "cell_type": "code",
   "execution_count": 239,
   "metadata": {},
   "outputs": [
    {
     "data": {
      "text/plain": [
       "True"
      ]
     },
     "execution_count": 239,
     "metadata": {},
     "output_type": "execute_result"
    }
   ],
   "source": [
    "'name' in student_dict"
   ]
  },
  {
   "cell_type": "code",
   "execution_count": 240,
   "metadata": {},
   "outputs": [
    {
     "data": {
      "text/plain": [
       "False"
      ]
     },
     "execution_count": 240,
     "metadata": {},
     "output_type": "execute_result"
    }
   ],
   "source": [
    "'Brian' in student_dict"
   ]
  },
  {
   "cell_type": "code",
   "execution_count": 241,
   "metadata": {},
   "outputs": [
    {
     "data": {
      "text/plain": [
       "'Brian'"
      ]
     },
     "execution_count": 241,
     "metadata": {},
     "output_type": "execute_result"
    }
   ],
   "source": [
    "# Graceful handling of missing key, use dict.get('key')\n",
    "student_dict['name']"
   ]
  },
  {
   "cell_type": "code",
   "execution_count": 242,
   "metadata": {},
   "outputs": [],
   "source": [
    "#student_dict['location']"
   ]
  },
  {
   "cell_type": "code",
   "execution_count": 243,
   "metadata": {},
   "outputs": [
    {
     "data": {
      "text/plain": [
       "'Brian'"
      ]
     },
     "execution_count": 243,
     "metadata": {},
     "output_type": "execute_result"
    }
   ],
   "source": [
    "student_dict.get(\"name\")"
   ]
  },
  {
   "cell_type": "code",
   "execution_count": 244,
   "metadata": {},
   "outputs": [],
   "source": [
    "student_dict.get(\"location\")"
   ]
  },
  {
   "cell_type": "code",
   "execution_count": 245,
   "metadata": {},
   "outputs": [
    {
     "data": {
      "text/plain": [
       "{'job': 'Teacher',\n",
       " 'name': 'Brian',\n",
       " 'skills': ['python', 'ruby', 'javascript', 'postgresql']}"
      ]
     },
     "execution_count": 245,
     "metadata": {},
     "output_type": "execute_result"
    }
   ],
   "source": [
    "student_dict"
   ]
  },
  {
   "cell_type": "code",
   "execution_count": 246,
   "metadata": {},
   "outputs": [
    {
     "data": {
      "text/plain": [
       "'Taipei'"
      ]
     },
     "execution_count": 246,
     "metadata": {},
     "output_type": "execute_result"
    }
   ],
   "source": [
    "# dict.get(key, default_value)\n",
    "student_dict.get(\"location\", \"Taipei\")"
   ]
  },
  {
   "cell_type": "code",
   "execution_count": 247,
   "metadata": {},
   "outputs": [
    {
     "data": {
      "text/plain": [
       "{'job': 'Teacher',\n",
       " 'name': 'Brian',\n",
       " 'skills': ['python', 'ruby', 'javascript', 'postgresql']}"
      ]
     },
     "execution_count": 247,
     "metadata": {},
     "output_type": "execute_result"
    }
   ],
   "source": [
    "student_dict"
   ]
  },
  {
   "cell_type": "code",
   "execution_count": 248,
   "metadata": {},
   "outputs": [
    {
     "data": {
      "text/plain": [
       "'Taipei'"
      ]
     },
     "execution_count": 248,
     "metadata": {},
     "output_type": "execute_result"
    }
   ],
   "source": [
    "# if key not in dict, insert val\n",
    "student_dict.setdefault(\"location\", \"Taipei\")"
   ]
  },
  {
   "cell_type": "code",
   "execution_count": 249,
   "metadata": {},
   "outputs": [
    {
     "data": {
      "text/plain": [
       "{'job': 'Teacher',\n",
       " 'location': 'Taipei',\n",
       " 'name': 'Brian',\n",
       " 'skills': ['python', 'ruby', 'javascript', 'postgresql']}"
      ]
     },
     "execution_count": 249,
     "metadata": {},
     "output_type": "execute_result"
    }
   ],
   "source": [
    "student_dict"
   ]
  },
  {
   "cell_type": "code",
   "execution_count": 250,
   "metadata": {},
   "outputs": [
    {
     "data": {
      "text/plain": [
       "'Taipei'"
      ]
     },
     "execution_count": 250,
     "metadata": {},
     "output_type": "execute_result"
    }
   ],
   "source": [
    "student_dict.setdefault(\"location\", \"Tainan\")"
   ]
  },
  {
   "cell_type": "code",
   "execution_count": 251,
   "metadata": {},
   "outputs": [
    {
     "data": {
      "text/plain": [
       "{'job': 'Teacher',\n",
       " 'location': 'Taipei',\n",
       " 'name': 'Brian',\n",
       " 'skills': ['python', 'ruby', 'javascript', 'postgresql']}"
      ]
     },
     "execution_count": 251,
     "metadata": {},
     "output_type": "execute_result"
    }
   ],
   "source": [
    "student_dict"
   ]
  },
  {
   "cell_type": "code",
   "execution_count": 255,
   "metadata": {},
   "outputs": [
    {
     "data": {
      "text/plain": [
       "{1, 2, 3, 4, 5}"
      ]
     },
     "execution_count": 255,
     "metadata": {},
     "output_type": "execute_result"
    }
   ],
   "source": [
    "{1,2,3,3,4,4,5,5,5}"
   ]
  },
  {
   "cell_type": "code",
   "execution_count": 264,
   "metadata": {},
   "outputs": [
    {
     "data": {
      "text/plain": [
       "{1, 2, 3, 4, 5, 6, 12}"
      ]
     },
     "execution_count": 264,
     "metadata": {},
     "output_type": "execute_result"
    }
   ],
   "source": [
    "s1 = set([1,2,3,3,4,4,5,6,6,6,6,12])\n",
    "s1"
   ]
  },
  {
   "cell_type": "code",
   "execution_count": 265,
   "metadata": {},
   "outputs": [
    {
     "data": {
      "text/plain": [
       "{1, 2, 3, 4, 5, 6, 7, 8, 9}"
      ]
     },
     "execution_count": 265,
     "metadata": {},
     "output_type": "execute_result"
    }
   ],
   "source": [
    "s2 = set([1,2,3,3,4,4,5,6,6,6,6,7,8,9])\n",
    "s2"
   ]
  },
  {
   "cell_type": "code",
   "execution_count": 266,
   "metadata": {},
   "outputs": [
    {
     "data": {
      "text/plain": [
       "{7, 8, 9}"
      ]
     },
     "execution_count": 266,
     "metadata": {},
     "output_type": "execute_result"
    }
   ],
   "source": [
    "s2 - s1"
   ]
  },
  {
   "cell_type": "code",
   "execution_count": 267,
   "metadata": {},
   "outputs": [
    {
     "data": {
      "text/plain": [
       "{7, 8, 9, 12}"
      ]
     },
     "execution_count": 267,
     "metadata": {},
     "output_type": "execute_result"
    }
   ],
   "source": [
    "s2 ^ s1"
   ]
  },
  {
   "cell_type": "code",
   "execution_count": 268,
   "metadata": {},
   "outputs": [
    {
     "data": {
      "text/plain": [
       "{1, 2, 3, 4, 5, 6}"
      ]
     },
     "execution_count": 268,
     "metadata": {},
     "output_type": "execute_result"
    }
   ],
   "source": [
    "s2 & s1"
   ]
  },
  {
   "cell_type": "code",
   "execution_count": 269,
   "metadata": {},
   "outputs": [
    {
     "data": {
      "text/plain": [
       "{1, 2, 3, 4, 5, 6, 7, 8, 9, 12}"
      ]
     },
     "execution_count": 269,
     "metadata": {},
     "output_type": "execute_result"
    }
   ],
   "source": [
    "s2 | s1"
   ]
  },
  {
   "cell_type": "code",
   "execution_count": 271,
   "metadata": {},
   "outputs": [
    {
     "data": {
      "text/plain": [
       "False"
      ]
     },
     "execution_count": 271,
     "metadata": {},
     "output_type": "execute_result"
    }
   ],
   "source": [
    "s2 >= s1"
   ]
  },
  {
   "cell_type": "code",
   "execution_count": 272,
   "metadata": {},
   "outputs": [
    {
     "data": {
      "text/plain": [
       "False"
      ]
     },
     "execution_count": 272,
     "metadata": {},
     "output_type": "execute_result"
    }
   ],
   "source": [
    "s1 <= s2"
   ]
  },
  {
   "cell_type": "code",
   "execution_count": 275,
   "metadata": {},
   "outputs": [
    {
     "data": {
      "text/plain": [
       "{'job': 'Teacher',\n",
       " 'location': 'Taipei',\n",
       " 'name': 'Brian',\n",
       " 'skills': ['python', 'ruby', 'javascript', 'postgresql']}"
      ]
     },
     "execution_count": 275,
     "metadata": {},
     "output_type": "execute_result"
    }
   ],
   "source": [
    "student_dict = {'job': 'Teacher',\n",
    " 'location': 'Taipei',\n",
    " 'name': 'Brian',\n",
    " 'skills': ['python', 'ruby', 'javascript', 'postgresql']}\n",
    "student_dict"
   ]
  },
  {
   "cell_type": "code",
   "execution_count": 277,
   "metadata": {},
   "outputs": [
    {
     "data": {
      "text/plain": [
       "[{'job': 'Teacher',\n",
       "  'location': 'Taipei',\n",
       "  'name': 'Brian',\n",
       "  'skills': ['python', 'ruby', 'javascript', 'postgresql']},\n",
       " {'job': 'Teacher',\n",
       "  'location': 'Taipei',\n",
       "  'name': 'Brian',\n",
       "  'skills': ['python', 'ruby', 'javascript', 'postgresql']},\n",
       " {'job': 'Teacher',\n",
       "  'location': 'Taipei',\n",
       "  'name': 'Brian',\n",
       "  'skills': ['python', 'ruby', 'javascript', 'postgresql']}]"
      ]
     },
     "execution_count": 277,
     "metadata": {},
     "output_type": "execute_result"
    }
   ],
   "source": [
    "[student_dict, student_dict, student_dict]"
   ]
  },
  {
   "cell_type": "code",
   "execution_count": 278,
   "metadata": {},
   "outputs": [],
   "source": [
    "# Control flow"
   ]
  },
  {
   "cell_type": "code",
   "execution_count": 281,
   "metadata": {},
   "outputs": [],
   "source": [
    "price =  11"
   ]
  },
  {
   "cell_type": "code",
   "execution_count": 287,
   "metadata": {},
   "outputs": [
    {
     "name": "stdout",
     "output_type": "stream",
     "text": [
      "price is greater than 10\n"
     ]
    }
   ],
   "source": [
    "if price > 10:\n",
    "    print(\"price is greater than 10\")"
   ]
  },
  {
   "cell_type": "code",
   "execution_count": 289,
   "metadata": {},
   "outputs": [
    {
     "name": "stdout",
     "output_type": "stream",
     "text": [
      "price is smaller than 10\n"
     ]
    }
   ],
   "source": [
    "price = 8\n",
    "\n",
    "if price > 10:\n",
    "    print(\"price is greater than 10\")\n",
    "elif price < 10:\n",
    "    print(\"price is smaller than 10\")\n",
    "else:\n",
    "    print(\"price is 10\")"
   ]
  },
  {
   "cell_type": "code",
   "execution_count": 293,
   "metadata": {},
   "outputs": [
    {
     "name": "stdout",
     "output_type": "stream",
     "text": [
      "student name is Brian\n",
      "student name is Batman\n",
      "student name is Spiderman\n"
     ]
    }
   ],
   "source": [
    "# loops\n",
    "# students = [\"Brian\", \"Ian\", \"David\"]\n",
    "# for (i=0, i<length(students), i++) {\n",
    "#   print(studnets[i])\n",
    "# }\n",
    "students = ['Brian', 'Batman', 'Spiderman']\n",
    "for name in students:\n",
    "    print(\"student name is %s\"%name)"
   ]
  },
  {
   "cell_type": "code",
   "execution_count": 307,
   "metadata": {},
   "outputs": [
    {
     "name": "stdout",
     "output_type": "stream",
     "text": [
      "key: job\n",
      "val: Teacher\n",
      "==================================================\n",
      "key: location\n",
      "val: Taipei\n",
      "==================================================\n",
      "key: name\n",
      "val: Brian\n",
      "==================================================\n",
      "key: skills\n",
      "val: ['python', 'ruby', 'javascript', 'postgresql']\n",
      "==================================================\n"
     ]
    }
   ],
   "source": [
    "student_dict = {'job': 'Teacher',\n",
    " 'location': 'Taipei',\n",
    " 'name': 'Brian',\n",
    " 'skills': ['python', 'ruby', 'javascript', 'postgresql']}\n",
    "\n",
    "for k in student_dict:\n",
    "    print(\"key: %s\"%k)\n",
    "    print(\"val: %s\"%student_dict[k])\n",
    "    print(\"=\"*50)"
   ]
  },
  {
   "cell_type": "code",
   "execution_count": 312,
   "metadata": {},
   "outputs": [
    {
     "name": "stdout",
     "output_type": "stream",
     "text": [
      "student_dict.items() is => dict_items([('job', 'Teacher'), ('location', 'Taipei'), ('name', 'Brian'), ('skills', ['python', 'ruby', 'javascript', 'postgresql'])])\n",
      "key: job\n",
      "val: Teacher\n",
      "==================================================\n",
      "key: location\n",
      "val: Taipei\n",
      "==================================================\n",
      "key: name\n",
      "val: Brian\n",
      "==================================================\n",
      "key: skills\n",
      "val: ['python', 'ruby', 'javascript', 'postgresql']\n",
      "==================================================\n"
     ]
    }
   ],
   "source": [
    "student_dict = {'job': 'Teacher',\n",
    " 'location': 'Taipei',\n",
    " 'name': 'Brian',\n",
    " 'skills': ['python', 'ruby', 'javascript', 'postgresql']}\n",
    "\n",
    "print(\"student_dict.items() is => %s\"%(student_dict.items()))\n",
    "\n",
    "for k,v in student_dict.items():\n",
    "    print(\"key: %s\"%k)\n",
    "    print(\"val: %s\"%v)\n",
    "    print(\"=\"*50)"
   ]
  },
  {
   "cell_type": "code",
   "execution_count": 314,
   "metadata": {},
   "outputs": [
    {
     "data": {
      "text/plain": [
       "dict_keys(['job', 'location', 'name', 'skills'])"
      ]
     },
     "execution_count": 314,
     "metadata": {},
     "output_type": "execute_result"
    }
   ],
   "source": [
    "student_dict.keys()"
   ]
  },
  {
   "cell_type": "code",
   "execution_count": 315,
   "metadata": {},
   "outputs": [
    {
     "data": {
      "text/plain": [
       "dict_values(['Teacher', 'Taipei', 'Brian', ['python', 'ruby', 'javascript', 'postgresql']])"
      ]
     },
     "execution_count": 315,
     "metadata": {},
     "output_type": "execute_result"
    }
   ],
   "source": [
    "student_dict.values()"
   ]
  },
  {
   "cell_type": "code",
   "execution_count": 317,
   "metadata": {},
   "outputs": [
    {
     "name": "stdout",
     "output_type": "stream",
     "text": [
      "Teacher\n",
      "Taipei\n",
      "Brian\n",
      "['python', 'ruby', 'javascript', 'postgresql']\n"
     ]
    }
   ],
   "source": [
    "for x in student_dict.values():\n",
    "    print(x)"
   ]
  },
  {
   "cell_type": "code",
   "execution_count": 295,
   "metadata": {},
   "outputs": [
    {
     "name": "stdout",
     "output_type": "stream",
     "text": [
      "0\n",
      "1\n",
      "2\n",
      "3\n",
      "4\n",
      "5\n",
      "6\n",
      "7\n",
      "8\n",
      "9\n"
     ]
    }
   ],
   "source": [
    "for num in range(10):\n",
    "    print(num)"
   ]
  },
  {
   "cell_type": "code",
   "execution_count": 296,
   "metadata": {},
   "outputs": [
    {
     "name": "stdout",
     "output_type": "stream",
     "text": [
      "2\n",
      "3\n",
      "4\n",
      "5\n",
      "6\n",
      "7\n",
      "8\n",
      "9\n"
     ]
    }
   ],
   "source": [
    "for num in range(2,10):\n",
    "    print(num)"
   ]
  },
  {
   "cell_type": "code",
   "execution_count": 298,
   "metadata": {},
   "outputs": [
    {
     "name": "stdout",
     "output_type": "stream",
     "text": [
      "2\n",
      "4\n",
      "6\n",
      "8\n"
     ]
    }
   ],
   "source": [
    "# range(start, end, step)\n",
    "for num in range(2,10,2):\n",
    "    print(num)"
   ]
  },
  {
   "cell_type": "code",
   "execution_count": 300,
   "metadata": {},
   "outputs": [
    {
     "name": "stdout",
     "output_type": "stream",
     "text": [
      "0\n",
      "1\n",
      "2\n",
      "3\n"
     ]
    }
   ],
   "source": [
    "x = 0\n",
    "while x < 4:\n",
    "    print(x)\n",
    "    x += 1 # x = x + 1"
   ]
  },
  {
   "cell_type": "code",
   "execution_count": 318,
   "metadata": {},
   "outputs": [],
   "source": [
    "# Functions\n",
    "books = [\"Harry Potter\", \"Lord of Rings\", \"Python, The Definitive Guide\", \"Javascript The Best Parts\"]"
   ]
  },
  {
   "cell_type": "code",
   "execution_count": 319,
   "metadata": {},
   "outputs": [
    {
     "name": "stdout",
     "output_type": "stream",
     "text": [
      "Harry Potter\n",
      "Lord of Rings\n",
      "Python, The Definitive Guide\n",
      "Javascript The Best Parts\n"
     ]
    }
   ],
   "source": [
    "for book in books:\n",
    "    print(book)"
   ]
  },
  {
   "cell_type": "code",
   "execution_count": 322,
   "metadata": {},
   "outputs": [],
   "source": [
    "def lower_case(mystr):\n",
    "    print(\"[INFO] Running lower_case function\")\n",
    "    return mystr.lower()"
   ]
  },
  {
   "cell_type": "code",
   "execution_count": 323,
   "metadata": {},
   "outputs": [
    {
     "name": "stdout",
     "output_type": "stream",
     "text": [
      "[INFO] Running lower_case function\n",
      "harry potter\n",
      "[INFO] Running lower_case function\n",
      "lord of rings\n",
      "[INFO] Running lower_case function\n",
      "python, the definitive guide\n",
      "[INFO] Running lower_case function\n",
      "javascript the best parts\n"
     ]
    }
   ],
   "source": [
    "for book in books:\n",
    "    lower_book = lower_case(book)\n",
    "    print(lower_book)"
   ]
  },
  {
   "cell_type": "code",
   "execution_count": 324,
   "metadata": {},
   "outputs": [
    {
     "name": "stdout",
     "output_type": "stream",
     "text": [
      "[INFO] Running lower_case function\n",
      "harry potter\n",
      "[INFO] Running lower_case function\n",
      "lord of rings\n",
      "[INFO] Running lower_case function\n",
      "python, the definitive guide\n",
      "[INFO] Running lower_case function\n",
      "javascript the best parts\n"
     ]
    }
   ],
   "source": [
    "for book in books:\n",
    "    lower_book = lower_case(mystr = book)\n",
    "    print(lower_book)"
   ]
  },
  {
   "cell_type": "code",
   "execution_count": 328,
   "metadata": {},
   "outputs": [],
   "source": [
    "def add(x,y):\n",
    "    return x+y\n",
    "\n",
    "def sub(x,y):\n",
    "    return x-y"
   ]
  },
  {
   "cell_type": "code",
   "execution_count": 326,
   "metadata": {},
   "outputs": [
    {
     "data": {
      "text/plain": [
       "3"
      ]
     },
     "execution_count": 326,
     "metadata": {},
     "output_type": "execute_result"
    }
   ],
   "source": [
    "add(1,2)"
   ]
  },
  {
   "cell_type": "code",
   "execution_count": 327,
   "metadata": {},
   "outputs": [
    {
     "data": {
      "text/plain": [
       "7"
      ]
     },
     "execution_count": 327,
     "metadata": {},
     "output_type": "execute_result"
    }
   ],
   "source": [
    "add(3,4)"
   ]
  },
  {
   "cell_type": "code",
   "execution_count": 329,
   "metadata": {},
   "outputs": [
    {
     "data": {
      "text/plain": [
       "1"
      ]
     },
     "execution_count": 329,
     "metadata": {},
     "output_type": "execute_result"
    }
   ],
   "source": [
    "sub(2,1)"
   ]
  },
  {
   "cell_type": "code",
   "execution_count": 330,
   "metadata": {},
   "outputs": [
    {
     "data": {
      "text/plain": [
       "2"
      ]
     },
     "execution_count": 330,
     "metadata": {},
     "output_type": "execute_result"
    }
   ],
   "source": [
    "sub(5,3)"
   ]
  },
  {
   "cell_type": "code",
   "execution_count": 331,
   "metadata": {},
   "outputs": [
    {
     "data": {
      "text/plain": [
       "4"
      ]
     },
     "execution_count": 331,
     "metadata": {},
     "output_type": "execute_result"
    }
   ],
   "source": [
    "sub(x=5,y=1)"
   ]
  },
  {
   "cell_type": "code",
   "execution_count": 332,
   "metadata": {},
   "outputs": [
    {
     "data": {
      "text/plain": [
       "-4"
      ]
     },
     "execution_count": 332,
     "metadata": {},
     "output_type": "execute_result"
    }
   ],
   "source": [
    "sub(y=5,x=1)"
   ]
  },
  {
   "cell_type": "code",
   "execution_count": 341,
   "metadata": {},
   "outputs": [],
   "source": [
    "x = 1\n",
    "def set_x(num):\n",
    "    #print(\"[INFO] before set: %s\"%x)\n",
    "    x = num\n",
    "    print(\"[INFO] after set: %s\"%x)\n",
    "\n"
   ]
  },
  {
   "cell_type": "code",
   "execution_count": 342,
   "metadata": {},
   "outputs": [
    {
     "name": "stdout",
     "output_type": "stream",
     "text": [
      "[INFO] after set: 5\n"
     ]
    }
   ],
   "source": [
    "set_x(5)"
   ]
  },
  {
   "cell_type": "code",
   "execution_count": 352,
   "metadata": {},
   "outputs": [],
   "source": [
    "# Python modules"
   ]
  },
  {
   "cell_type": "code",
   "execution_count": 343,
   "metadata": {},
   "outputs": [],
   "source": [
    "import json"
   ]
  },
  {
   "cell_type": "code",
   "execution_count": 344,
   "metadata": {},
   "outputs": [
    {
     "data": {
      "text/plain": [
       "<module 'json' from '/home/ubuntu/.pyenv/versions/3.6.1/lib/python3.6/json/__init__.py'>"
      ]
     },
     "execution_count": 344,
     "metadata": {},
     "output_type": "execute_result"
    }
   ],
   "source": [
    "json"
   ]
  },
  {
   "cell_type": "code",
   "execution_count": 345,
   "metadata": {},
   "outputs": [
    {
     "data": {
      "text/plain": [
       "'[\"hi\"]'"
      ]
     },
     "execution_count": 345,
     "metadata": {},
     "output_type": "execute_result"
    }
   ],
   "source": [
    "json.dumps(['hi'])"
   ]
  },
  {
   "cell_type": "code",
   "execution_count": 346,
   "metadata": {},
   "outputs": [],
   "source": [
    "import json as j"
   ]
  },
  {
   "cell_type": "code",
   "execution_count": 347,
   "metadata": {},
   "outputs": [
    {
     "data": {
      "text/plain": [
       "'[\"HI\"]'"
      ]
     },
     "execution_count": 347,
     "metadata": {},
     "output_type": "execute_result"
    }
   ],
   "source": [
    "j.dumps([\"HI\"])"
   ]
  },
  {
   "cell_type": "code",
   "execution_count": 348,
   "metadata": {},
   "outputs": [],
   "source": [
    "from json import dumps"
   ]
  },
  {
   "cell_type": "code",
   "execution_count": 349,
   "metadata": {},
   "outputs": [
    {
     "data": {
      "text/plain": [
       "'[\"HI\"]'"
      ]
     },
     "execution_count": 349,
     "metadata": {},
     "output_type": "execute_result"
    }
   ],
   "source": [
    "dumps([\"HI\"])"
   ]
  },
  {
   "cell_type": "code",
   "execution_count": 350,
   "metadata": {},
   "outputs": [],
   "source": [
    "from json import dumps as d"
   ]
  },
  {
   "cell_type": "code",
   "execution_count": 351,
   "metadata": {},
   "outputs": [
    {
     "data": {
      "text/plain": [
       "'[\"HI\"]'"
      ]
     },
     "execution_count": 351,
     "metadata": {},
     "output_type": "execute_result"
    }
   ],
   "source": [
    "d([\"HI\"])"
   ]
  },
  {
   "cell_type": "code",
   "execution_count": 353,
   "metadata": {},
   "outputs": [],
   "source": [
    "# Word counting"
   ]
  },
  {
   "cell_type": "code",
   "execution_count": 358,
   "metadata": {},
   "outputs": [],
   "source": [
    "f = open('./trump_speech.txt')"
   ]
  },
  {
   "cell_type": "code",
   "execution_count": 359,
   "metadata": {},
   "outputs": [
    {
     "name": "stdout",
     "output_type": "stream",
     "text": [
      "Mr. Secretary General, Mr. President, world leaders, and distinguished delegates, welcome to New York. It is a profound honor to stand here in my home city as a representative of the American people to address the people of the world. As millions of our citizens continue to suffer the effects of the devastating hurricanes that have struck our country, I want to begin by expressing my appreciation to every leader in this room who has offered assistance and aid. The American people are strong and resilient, and they will emerge from these hardships more determined than ever before. \n",
      "Fortunately, the United States has done very well since Election Day last November 8. The stock market is at an all-time high, a record. Unemployment is at its lowest level in 16 years, and because of our regulatory and other reforms, we have more people working in the United States today than ever before. Companies are moving back, creating job growth, the likes of which our country has not seen in a very long time, and it has just been announced that we will be spending almost $700 billion on our military and defense. Our military will soon be the strongest it has ever been. For more than 70 years, in times of war and peace, the leaders of nations, movements, and religions have stood before this assembly. \n",
      "Like them, I intend to address some of the very serious threats before us today, but also the enormous potential waiting to be unleashed. We live in a time of extraordinary opportunity. Breakthroughs in science, technology, and medicine are curing illnesses and solving problems that prior generations thought impossible to solve. But each day also brings news of growing dangers that threaten everything we cherish and value. Terrorists and extremists have gathered strength and spread to every region of the planet. Rogue regimes represented in this body not only support terror but threaten other nations and their own people with the most destructive weapons known to humanity. \n",
      "Authority and authoritarian powers seek to collapse the values, the systems, and alliances, that prevented conflict and tilted the word toward freedom since World War II. International criminal networks traffic drugs, weapons, people, force dislocation and mass migration, threaten our borders and new forms of aggression exploit technology to menace our citizens. To put it simply, we meet at a time of both immense promise and great peril. It is entirely up to us whether we lift the world to new heights or let it fall into a valley of disrepair. We have it in our power, should we so choose, to lift millions from poverty, to help our citizens realize their dreams, and to ensure that new generations of children are raised free from violence, hatred, and fear. \n",
      "This institution was founded in the aftermath of two world wars, to help shape this better future. It was based on the vision that diverse nations could cooperate to protect their sovereignty, preserve their security, and promote their prosperity. It was in the same period exactly 70 years ago that the United States developed the Marshall Plan to help restore Europe. Those these beautiful pillars, they are pillars of peace, sovereignty, security, and prosperity. The Marshall Plan was built on the noble idea that the whole world is safer when nations are strong, independent, and free. As president, Truman said in his message to Congress at that time, our support of European recovery is in full accord with our support of the United Nations. \n",
      "The success of the United Nations depends upon the independent strength of its members. To overcome the perils of the present, and to achieve the promise of the future, we must begin with the wisdom of the past. Our success depends on a coalition of strong and independent nations that embrace their sovereignty, to promote security, prosperity, and peace, for themselves and for the world. We do not expect diverse countries to share the same cultures, traditions, or even systems of government, but we do expect all nations to uphold these two core sovereign duties, to respect the interests of their own people and the rights of every other sovereign nation. \n",
      "This is the beautiful vision of this institution, and this is the foundation for cooperation and success. Strong sovereign nations let diverse countries with different values, different cultures, and different dreams not just coexist, but work side by side on the basis of mutual respect. Strong sovereign nations let their people take ownership of the future and control their own destiny. And strong sovereign nations allow individuals to flourish in the fullness of the life intended by God. In America, we do not seek to impose our way of life on anyone, but rather to let it shine as an example for everyone to watch. \n",
      "This week gives our country a special reason to take pride in that example. We are celebrating the 230th anniversary of our beloved Constitution, the oldest constitution still in use in the world today. This timeless document has been the foundation of peace, prosperity, and freedom for the Americans and for countless millions around the globe whose own countries have found inspiration in its respect for human nature, human dignity, and the rule of law. The greatest in the United States Constitution is its first three beautiful words. They are \"We the people.\" Generations of Americans have sacrificed to maintain the promise of those words, the promise of our country and of our great history.\n",
      "In America, the people govern, the people rule, and the people are sovereign. I was elected not to take power, but to give power to the American people where it belongs. In foreign affairs, we are renewing this founding principle of sovereignty. Our government's first duty is to its people, to our citizens, to serve their needs, to ensure their safety, to preserve their rights, and to defend their values. As president of the United States, I will always put America first. Just like you, as the leaders of your countries, will always and should always put your countries first.\n",
      "All responsible leaders have an obligation to serve their own citizens, and the nation state remains the best vehicle for elevating the human condition. But making a better life for our people also requires us to with work together in close harmony and unity, to create a more safe and peaceful future for all people. \n",
      "The United States will forever be a great friend to the world and especially to its allies. But we can no longer be taken advantage of or enter into a one-sided deal where the United States gets nothing in return. As long as I hold this office, I will defend America's interests above all else, but in fulfilling our obligations to our nations, we also realize that it's in everyone's interests to seek the future where all nations can be sovereign, prosperous, and secure. \n",
      "America does more than speak for the values expressed in the United Nations charter. Our citizens have paid the ultimate price to defend our freedom and the freedom of many nations represented in this great hall. America's devotion is measured on the battlefields where our young men and women have fought and sacrificed alongside of our allies. From the beaches of Europe to the deserts of the Middle East to the jungles of Asia, it is an eternal credit to the American character that even after we and our allies emerge victorious from the bloodiest war in history, we did not seek territorial expansion or attempt to oppose and impose our way of life on others. Instead, we helped build institutions such as this one to defend the sovereignty, security, and prosperity for all. For the diverse nations of the world, this is our hope. \n",
      "We want harmony and friendship, not conflict and strife. We are guided by outcomes, not ideologies. We have a policy of principled realism, rooted in shared goal, interests, and values. That realism forces us to confront the question facing every leader and nation in this room, it is a question we cannot escape or avoid. We will slide down the path of complacency, numb to the challenges, threats, and even wars that we face, or do we have enough strength and pride to confront those dangers today so that our citizens can enjoy peace and prosperity tomorrow. \n",
      "If we desire to lift up our citizens, if we aspire to the approval of history, then we must fulfill our sovereign duties to the people we faithfully represent. We must protect our nations, their interests and their futures. We must reject threats to sovereignty from the Ukraine to the South China Sea. We must uphold respect for law, respect for borders, and respect for culture, and the peaceful engagement these allow. \n",
      "And just as the founders of this body intended, we must work together and confront together those who threatens us with chaos, turmoil, and terror. The score of our planet today is small regimes that violate every principle that the United Nations is based. They respect neither their own citizens nor the sovereign rights of their countries. If the righteous many do not confront the wicked few, then evil will triumph. When decent people and nations become bystanders to history, the forces of destruction only gather power and strength.\n",
      "No one has shown more contempt for other nations and for the well-being of their own people than the depraved regime in North Korea. It is responsible for the starvation deaths of millions of North Koreans. And for the imprisonment, torture, killing, and oppression of countless more. We were all witness to the regime's deadly abuse when an innocent American college student, Otto Warmbier, was returned to America, only to die a few days later. \n",
      "We saw it in the assassination of the dictator's brother, using banned nerve agents in an international airport. We know it kidnapped a sweet 13-year-old Japanese girl from a beach in her own country, to enslave her as a language tutor for North Korea's spies. If this is not twisted enough, now North Korea's reckless pursuit of nuclear weapons and ballistic missiles threatens the entire world with unthinkable loss of human life. It is an outrage that some nations would not only trade with such a regime, but would arm, supply, and financially support a country that imperils the world with nuclear conflict. \n",
      "No nation on Earth has an interest in seeing this band of criminals arm itself with nuclear weapons and missiles. The United States has great strength and patience, but if it is forced to defend itself or its allies, we will have no choice but to totally destroy North Korea. Rocket Man is on a suicide mission for himself and for his regime. The United States is ready, willing, and able, but hopefully this will not be necessary. That's what the United Nations is all about. That's what the United Nations is for. Let's see how they do.\n",
      "It is time for North Korea to realize that the denuclearization is its only acceptable future. The United Nations Security Council recently held two unanimous 15-0 votes adopting hard-hitting resolutions against North Korea, and I want to thank China and Russia for joining the vote to impose sanctions, along with all of the other members of the Security Council. Thank you to all involved. But we must do much more.\n",
      "It is time for all nations to work together to isolate the Kim regime until it ceases its hostile behavior. We face this decision not only in North Korea; it is far past time for the nations of the world to confront another reckless regime, one that speaks openly of mass murder, vowing death to America, destruction to Israel, and ruin for many leaders and nations in this room. \n",
      "The Iranian government masks a corrupt dictatorship behind the false guise of a democracy. It has turned a wealthy country, with a rich history and culture, into an economically depleted rogue state whose chief exports are violence, bloodshed, and chaos. The longest-suffering victims of Iran's leaders are, in fact, its own people. Rather than use its resources to improve Iranian live, its oil profits go to fund Hezbollah and other terrorists that kill innocent Muslims and attack their peaceful Arab and Israeli neighbors. \n",
      "This wealth, which rightly belongs to Iran's people, also goes to shore up Bashar al-Assad's dictatorship, fuel Yemen's civil war, and undermine peace throughout the entire Middle East. We cannot let a murderous regime continue these destabilizing activities while building dangerous missiles, and we cannot abide by an agreement if it provides cover for the eventual construction of a nuclear program. The Iran deal was one of the worst and most one-sided transactions the United States has ever entered into. Frankly, that deal is an embarrassment to the United States, and I don't think you've heard the last of it. Believe me.\n",
      "It is time for the entire world to join us in demanding that Iran's government end its pursuit of death and destruction. It is time for the regime to free all Americans and citizens of other nations that they have unjustly detained. Above all, Iran's government must stop supporting terrorists, begin serving its own people, and respect the sovereign rights of its neighbors. The entire world understands that the good people of Iran want change, and, other than the vast military power of the United States, that Iran's people are what their leaders fear the most. This is what causes the regime to restrict internet access, tear down satellite dishes, shoot unarmed student protesters, and imprison political reformers. \n",
      "Oppressive regimes cannot endure forever, and the day will come when the people will face a choice. Will they continue down the path of poverty, bloodshed, and terror, or will the Iranian people return to the nation's proud roots as a center of civilization, culture, and wealth, where their people can be happy and prosperous once again? The Iranian regime's support for terror is in stark contrast to the recent commitments of many of its neighbors to fight terrorism and halt its finance, and in Saudi Arabia early last year, I was greatly honored to address the leaders of more than 50 Arab and Muslim nations. We agreed that all responsible nations must work together to confront terrorists and the Islamic extremism that inspires them. \n",
      "We will stop radical islamic terrorism because we cannot allow it to tear up our nation and, indeed, to tear up the entire world. We must deny the terrorists safe haven, transit, funding, and any form of support for their vile and sinister ideology. We must drive them out of our nation. It is time to expose and hold responsible those countries whose support and fi — who support and finance terror groups like al-Qaeda, Hezbollah, the Taliban, and others that slaughter innocent people. \n",
      "The United States and our allies are working together throughout the Middle East to crush the loser terrorists and stop the reemergence of safe havens they use to launch attacks on all of our people. Last month I announced a new strategy for victory in the fight against this evil in Afghanistan. From now on, our security interests will dictate the length and scope of military operation, not arbitrary benchmarks and timetables set up by politicians. I have also totally changed the rules of engagement in our fight against the Taliban and other terrorist groups.\n",
      "In Syria and Iraq, we have made big gains toward lasting defeat of ISIS. In fact, our country has achieved more against ISIS in the last eight months than it has in many, many years combined. We seek the deescalation of the Syrian conflict, and a political solution that honors the will of the Syrian people. The actions of the criminal regime of Bashar al-Assad, including the use of chemical weapons against his own citizens, even innocent children, shock the conscience of every decent person. No society could be safe if banned chemical weapons are allowed to spread. That is why the United States carried out a missile strike on the airbase that launched the attack.\n",
      "We appreciate the efforts of the United Nations agencies that are providing vital humanitarian assistance in areas liberated from ISIS, and we especially thank Jordan, Turkey, and Lebanon for their role in hosting refugees from the Syrian conflict. The United States is a compassionate nation and has spent billions and billions of dollars in helping to support this effort. We seek an approach to refugee resettlement that is designed to help these horribly treated people and which enables their eventual return to their home countries to be part of the rebuilding process. For the cost of resettling one refugee in the United States, we can assist more than 10 in their home region. \n",
      "Out of the goodness of our hearts, we offer financial assistance to hosting countries in the region and we support recent agreements of the G20 nations that will seek to host refugees as close to their home countries as possible. This is the safe, responsible, and humanitarian approach. For decades the United States has dealt with migration challenges here in the Western Hemisphere. \n",
      "We have learned that over the long term, uncontrolled migration is deeply unfair to both the sending and the receiving countries. For the sending countries, it reduces domestic pressure to pursue needed political and economic reform and drains them of the human capital necessary to motivate and implement those reforms. For the receiving countries, the substantial costs of uncontrolled migration are born overwhelmingly by low-income citizens whose concerns are often ignored by both media and government. \n",
      "I want to salute the work of the United Nations in seeking to address the problems that cause people to flee from their home. The United Nations and African Union led peacekeeping missions to have invaluable contributions in stabilizing conflict in Africa. The United States continues to lead the world in humanitarian assistance, including famine prevention and relief, in South Sudan, Somalia, and northern Nigeria and Yemen. \n",
      "We have invested in better health and opportunity all over the world through programs like PEPFAR, which funds AIDS relief, the President’s Malaria Initiative, the Global Health Security Agenda, the Global Fund to End Modern Slavery, and the Women Entrepreneur's Finance Initiative, part of our commitment to empowering women all across the globe. \n",
      "We also thank — we also thank the secretary general for recognizing that the United Nations must reform if it is to be an effective partner in confronting threats to sovereignty, security, and prosperity. Too often the focus of this organization has not been on results, but on bureaucracy and process. In some cases, states that seek to subvert this institution's noble end have hijacked the very systems that are supposed to advance them. For example, it is a massive source of embarrassment to the United Nations that some governments with egregious human rights records sit on the UN Human Rights Council. \n",
      "The United States is one out of 193 countries in the United Nations, and yet we pay 22 percent of the entire budget and more. In fact, we pay far more than anybody realizes. The United States bears an unfair cost burden, but to be fair, if it could actually accomplish all of its stated goals, especially the goal of peace, this investment would easily be well worth it. Major portions of the world are in conflict, and some, in fact, are going to hell, but the powerful people in this room, under the guidance and auspices of the United Nations, can solve many of these vicious and complex problems. The American people hope that one day soon the United Nations can be a much more accountable and effective advocate for human dignity and freedom around the world. \n",
      "In the meantime, we believe that no nation should have to bear a disproportionate share of the burden, militarily or financially. Nations of the world must take a greater role in promoting secure and prosperous societies in their own region. That is why in the Western Hemisphere the United States has stood against the corrupt, destabilizing regime in Cuba and embraced the enduring dream of the Cuban people to live in freedom. \n",
      "My administration recently announced that we will not lift sanctions on the Cuban government until it makes fundamental reforms. We have also imposed tough calibrated sanctions on the socialist Maduro regime in Venezuela, which has brought a once thriving nation to the brink of total collapse. The socialist dictatorship of Nicolás Maduro has inflicted terrible pain and suffering on the good people of that country. \n",
      "This corrupt regime destroyed a prosperous nation — prosperous nation, by imposing a failed ideology that has produced poverty and misery everywhere it has been tried. To make matters worse, Maduro has defied his own people, stealing power from their elected representatives, to preserve his disastrous rule. The Venezuelan people are starving, and their country is collapsing. Their democratic institutions are being destroyed. The situation is completely unacceptable, and we cannot stand by and watch. \n",
      "As a responsible neighbor and friend, we and all others have a goal — that goal is to help them regain their freedom, recover their country, and restore their democracy. I would like to thank leaders in this room for condemning the regime and providing vital support to the Venezuelan people. The United States has taken important steps to hold the regime accountable. We are prepared to take further action if the government of Venezuela persists on its path to impose authoritarian rule on the Venezuelan people.\n",
      "We are fortunate to have incredibly strong and healthy trade relationships with many of the Latin American countries gathered here today. Our economic bond forms a critical foundation for advancing peace and prosperity for all of our people and all of our neighbors. I ask every country represented here today to be prepared to do more to address this very real crisis. We call for the full restoration of democracy and political freedoms in Venezuela. The problem in Venezuela is not that socialism has been poorly implemented, but that socialism has been faithfully implemented. \n",
      "From the Soviet Union to Cuba to Venezuela, wherever true socialism or communism has been adopted, it has delivered anguish and devastation and failure. Those who preach the tenets of these discredited ideologies only contribute to the continued suffering of the people who live under these cruel systems. America stands with every person living under a brutal regime. Our respect for sovereignty is also a call for action. All people deserve a government that cares for their safety, their interests, and their well-being, including their prosperity. In America, we seek stronger ties of business and trade with all nations of goodwill, but this trade must be fair and it must be reciprocal. \n",
      "For too long the American people  were told that mammoth, multinational trade deals, unaccountable international tribunals, and powerful global bureaucracies were the best way to promote their success. But as those promises flowed, millions of jobs vanished and thousands of factories disappeared. Others gamed the system and broke the rules, and our great middle class, once the bedrock of American prosperity, was forgotten and left behind, but they are forgotten no more and they will never be forgotten again. \n",
      "While America will pursue cooperation and commerce with other nations, we are renewing our commitment to the first duty of every government, the duty of our citizens. This bond is the source of America's strength and that of every responsible nation represented here today. If this organization is to have any hope of successfully confronting the challenges before us, it will depend, as President Truman said some 70 years ago, on the independent strength of its members. \n",
      "If we are to embrace the opportunities of the future and overcome the present dangers together, there can be no substantive for strong, sovereign, and independent nations, nations that are rooted in the histories and invested in their destiny, nations that seek allies to befriend, not enemies to conquer, and most important of all, nations that are home to men and women who are willing to sacrifice for their countries, their fellow citizens, and for all that is best in the human spirit.\n",
      "In remembering the great victory that led to this body's founding, we must never forget that those heroes who fought against evil, also fought for the nations that they love. Patriotism led the Poles to die to save Poland, the French to fight for a free France, and the Brits to stand strong for Britain. Today, if we do not invest ourselves, our hearts, our minds, and our nations, if we will not build strong families, safe communities, and healthy societies for ourselves, no one can do it for us. \n",
      "This is the ancient wish of every people and the deepest yearning that lives inside every sacred soul. So let this be our mission, and let this be our message to the world. We will fight together, sacrifice together, and stand together for peace, for freedom, for justice, for family, for humanity, and for the almighty God who made us all. Thank you, God bless you, God bless the nations of the world, and God bless the United States of America. Thank you very much.\n",
      "\n"
     ]
    }
   ],
   "source": [
    "print(f.read())"
   ]
  },
  {
   "cell_type": "code",
   "execution_count": null,
   "metadata": {},
   "outputs": [],
   "source": []
  }
 ],
 "metadata": {
  "kernelspec": {
   "display_name": "Python 3",
   "language": "python",
   "name": "python3"
  },
  "language_info": {
   "codemirror_mode": {
    "name": "ipython",
    "version": 3
   },
   "file_extension": ".py",
   "mimetype": "text/x-python",
   "name": "python",
   "nbconvert_exporter": "python",
   "pygments_lexer": "ipython3",
   "version": "3.6.1"
  }
 },
 "nbformat": 4,
 "nbformat_minor": 2
}
